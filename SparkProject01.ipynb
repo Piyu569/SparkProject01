{
  "nbformat": 4,
  "nbformat_minor": 0,
  "metadata": {
    "colab": {
      "provenance": [],
      "authorship_tag": "ABX9TyNt1y4a33oBJD6AneUZRcu3",
      "include_colab_link": true
    },
    "kernelspec": {
      "name": "python3",
      "display_name": "Python 3"
    },
    "language_info": {
      "name": "python"
    }
  },
  "cells": [
    {
      "cell_type": "markdown",
      "metadata": {
        "id": "view-in-github",
        "colab_type": "text"
      },
      "source": [
        "<a href=\"https://colab.research.google.com/github/Piyu569/SparkProject01/blob/dev/SparkProject01.ipynb\" target=\"_parent\"><img src=\"https://colab.research.google.com/assets/colab-badge.svg\" alt=\"Open In Colab\"/></a>"
      ]
    },
    {
      "cell_type": "code",
      "execution_count": 3,
      "metadata": {
        "id": "VzSFUBddIxK_",
        "colab": {
          "base_uri": "https://localhost:8080/"
        },
        "outputId": "923a02ad-599c-4f48-deef-1c0158bd0afa"
      },
      "outputs": [
        {
          "output_type": "stream",
          "name": "stdout",
          "text": [
            "Looking in indexes: https://pypi.org/simple, https://us-python.pkg.dev/colab-wheels/public/simple/\n",
            "Collecting pyspark\n",
            "  Downloading pyspark-3.3.1.tar.gz (281.4 MB)\n",
            "\u001b[2K     \u001b[90m━━━━━━━━━━━━━━━━━━━━━━━━━━━━━━━━━━━━━━━\u001b[0m \u001b[32m281.4/281.4 MB\u001b[0m \u001b[31m5.0 MB/s\u001b[0m eta \u001b[36m0:00:00\u001b[0m\n",
            "\u001b[?25h  Preparing metadata (setup.py) ... \u001b[?25l\u001b[?25hdone\n",
            "Collecting py4j==0.10.9.5\n",
            "  Downloading py4j-0.10.9.5-py2.py3-none-any.whl (199 kB)\n",
            "\u001b[2K     \u001b[90m━━━━━━━━━━━━━━━━━━━━━━━━━━━━━━━━━━━━━━\u001b[0m \u001b[32m199.7/199.7 KB\u001b[0m \u001b[31m22.2 MB/s\u001b[0m eta \u001b[36m0:00:00\u001b[0m\n",
            "\u001b[?25hBuilding wheels for collected packages: pyspark\n",
            "  Building wheel for pyspark (setup.py) ... \u001b[?25l\u001b[?25hdone\n",
            "  Created wheel for pyspark: filename=pyspark-3.3.1-py2.py3-none-any.whl size=281845512 sha256=8680d021c815ace5a5befad3a4a1a88853f5e3be5b621e05cb07cae8851df0e9\n",
            "  Stored in directory: /root/.cache/pip/wheels/43/dc/11/ec201cd671da62fa9c5cc77078235e40722170ceba231d7598\n",
            "Successfully built pyspark\n",
            "Installing collected packages: py4j, pyspark\n",
            "Successfully installed py4j-0.10.9.5 pyspark-3.3.1\n"
          ]
        }
      ],
      "source": [
        "pip install pyspark"
      ]
    },
    {
      "cell_type": "code",
      "source": [
        "import pyspark"
      ],
      "metadata": {
        "id": "_I0nnvZxMFh5"
      },
      "execution_count": 4,
      "outputs": []
    },
    {
      "cell_type": "code",
      "source": [
        "from pyspark.sql import SparkSession"
      ],
      "metadata": {
        "id": "qPVmBvEfQgNm"
      },
      "execution_count": 5,
      "outputs": []
    },
    {
      "cell_type": "code",
      "source": [
        "spark = SparkSession.builder.appName(\"banking_Pro\").getOrCreate()"
      ],
      "metadata": {
        "id": "niegz9P1REiO"
      },
      "execution_count": 6,
      "outputs": []
    },
    {
      "cell_type": "code",
      "source": [
        "#@title Credit-Card dataSet"
      ],
      "metadata": {
        "id": "ouVlFGqVVpIi"
      },
      "execution_count": null,
      "outputs": []
    },
    {
      "cell_type": "code",
      "source": [
        "df = spark.read.csv(\"/content/credit card.csv\",inferSchema = True,header =True)"
      ],
      "metadata": {
        "id": "7aIldULyJsLl"
      },
      "execution_count": 9,
      "outputs": []
    },
    {
      "cell_type": "code",
      "source": [
        "df.printSchema()"
      ],
      "metadata": {
        "colab": {
          "base_uri": "https://localhost:8080/"
        },
        "id": "7OQc9giMRpJL",
        "outputId": "654e89b5-8097-40d4-ecf5-9a9c7e834876"
      },
      "execution_count": 10,
      "outputs": [
        {
          "output_type": "stream",
          "name": "stdout",
          "text": [
            "root\n",
            " |-- RowNumber: integer (nullable = true)\n",
            " |-- CustomerId: integer (nullable = true)\n",
            " |-- Surname: string (nullable = true)\n",
            " |-- CreditScore: integer (nullable = true)\n",
            " |-- Geography: string (nullable = true)\n",
            " |-- Gender: string (nullable = true)\n",
            " |-- Age: integer (nullable = true)\n",
            " |-- Tenure: integer (nullable = true)\n",
            " |-- Balance: double (nullable = true)\n",
            " |-- NumOfProducts: integer (nullable = true)\n",
            " |-- IsActiveMember: integer (nullable = true)\n",
            " |-- EstimatedSalary: double (nullable = true)\n",
            " |-- Exited: integer (nullable = true)\n",
            "\n"
          ]
        }
      ]
    },
    {
      "cell_type": "code",
      "source": [
        "df.count()"
      ],
      "metadata": {
        "colab": {
          "base_uri": "https://localhost:8080/"
        },
        "id": "u6Yn6eiBUpjv",
        "outputId": "e07743c4-7041-4b39-caea-1c00b5455b35"
      },
      "execution_count": 11,
      "outputs": [
        {
          "output_type": "execute_result",
          "data": {
            "text/plain": [
              "10000"
            ]
          },
          "metadata": {},
          "execution_count": 11
        }
      ]
    },
    {
      "cell_type": "markdown",
      "source": [
        "# This is the Distinct count of the members who are eligible for credit card"
      ],
      "metadata": {
        "id": "R7QtG8NhZu44"
      }
    },
    {
      "cell_type": "code",
      "source": [
        "from pyspark.sql.functions import col\n",
        "eligible = df.filter(df[\"CreditScore\"] > 700).distinct().count()\n",
        "print(eligible)"
      ],
      "metadata": {
        "colab": {
          "base_uri": "https://localhost:8080/"
        },
        "id": "6nnOWDc1XbXF",
        "outputId": "19dd8785-1cf1-4583-abf3-0dda418272fa"
      },
      "execution_count": 12,
      "outputs": [
        {
          "output_type": "stream",
          "name": "stdout",
          "text": [
            "3116\n"
          ]
        }
      ]
    },
    {
      "cell_type": "markdown",
      "source": [
        "# List of the Distinct Members"
      ],
      "metadata": {
        "id": "uJbxLLMEZ-vh"
      }
    },
    {
      "cell_type": "code",
      "source": [
        "from pyspark.sql.functions import avg\n",
        "list = df.select(\"CreditScore\",\"Age\",\"NumOfProducts\").filter(df[\"CreditScore\"]>700)\n",
        "list.show()"
      ],
      "metadata": {
        "colab": {
          "base_uri": "https://localhost:8080/"
        },
        "id": "Rrp6EPnEYV7e",
        "outputId": "632b796e-fb8d-49ce-afb8-c0e9233f2102"
      },
      "execution_count": 13,
      "outputs": [
        {
          "output_type": "stream",
          "name": "stdout",
          "text": [
            "+-----------+---+-------------+\n",
            "|CreditScore|Age|NumOfProducts|\n",
            "+-----------+---+-------------+\n",
            "|        850| 43|            1|\n",
            "|        822| 50|            2|\n",
            "|        726| 24|            2|\n",
            "|        732| 41|            2|\n",
            "|        846| 38|            1|\n",
            "|        756| 36|            1|\n",
            "|        722| 29|            2|\n",
            "|        804| 33|            1|\n",
            "|        850| 36|            1|\n",
            "|        834| 49|            1|\n",
            "|        776| 32|            2|\n",
            "|        829| 27|            1|\n",
            "|        776| 37|            2|\n",
            "|        788| 33|            2|\n",
            "|        725| 19|            1|\n",
            "|        742| 35|            1|\n",
            "|        751| 36|            2|\n",
            "|        735| 43|            2|\n",
            "|        738| 58|            4|\n",
            "|        813| 29|            1|\n",
            "+-----------+---+-------------+\n",
            "only showing top 20 rows\n",
            "\n"
          ]
        }
      ]
    },
    {
      "cell_type": "code",
      "source": [
        "df.show()"
      ],
      "metadata": {
        "colab": {
          "base_uri": "https://localhost:8080/"
        },
        "id": "LcaFrn_QepDe",
        "outputId": "da7cce5a-61ce-4f8a-ffc0-7b841686ba69"
      },
      "execution_count": 14,
      "outputs": [
        {
          "output_type": "stream",
          "name": "stdout",
          "text": [
            "+---------+----------+---------+-----------+---------+------+---+------+---------+-------------+--------------+---------------+------+\n",
            "|RowNumber|CustomerId|  Surname|CreditScore|Geography|Gender|Age|Tenure|  Balance|NumOfProducts|IsActiveMember|EstimatedSalary|Exited|\n",
            "+---------+----------+---------+-----------+---------+------+---+------+---------+-------------+--------------+---------------+------+\n",
            "|        1|  15634602| Hargrave|        619|   France|Female| 42|     2|      0.0|            1|             1|      101348.88|     1|\n",
            "|        2|  15647311|     Hill|        608|    Spain|Female| 41|     1| 83807.86|            1|             1|      112542.58|     0|\n",
            "|        3|  15619304|     Onio|        502|   France|Female| 42|     8| 159660.8|            3|             0|      113931.57|     1|\n",
            "|        4|  15701354|     Boni|        699|   France|Female| 39|     1|      0.0|            2|             0|       93826.63|     0|\n",
            "|        5|  15737888| Mitchell|        850|    Spain|Female| 43|     2|125510.82|            1|             1|        79084.1|     0|\n",
            "|        6|  15574012|      Chu|        645|    Spain|  Male| 44|     8|113755.78|            2|             0|      149756.71|     1|\n",
            "|        7|  15592531| Bartlett|        822|   France|  Male| 50|     7|      0.0|            2|             1|        10062.8|     0|\n",
            "|        8|  15656148|   Obinna|        376|  Germany|Female| 29|     4|115046.74|            4|             0|      119346.88|     1|\n",
            "|        9|  15792365|       He|        501|   France|  Male| 44|     4|142051.07|            2|             1|        74940.5|     0|\n",
            "|       10|  15592389|       H?|        684|   France|  Male| 27|     2|134603.88|            1|             1|       71725.73|     0|\n",
            "|       11|  15767821|   Bearce|        528|   France|  Male| 31|     6|102016.72|            2|             0|       80181.12|     0|\n",
            "|       12|  15737173|  Andrews|        497|    Spain|  Male| 24|     3|      0.0|            2|             0|       76390.01|     0|\n",
            "|       13|  15632264|      Kay|        476|   France|Female| 34|    10|      0.0|            2|             0|       26260.98|     0|\n",
            "|       14|  15691483|     Chin|        549|   France|Female| 25|     5|      0.0|            2|             0|      190857.79|     0|\n",
            "|       15|  15600882|    Scott|        635|    Spain|Female| 35|     7|      0.0|            2|             1|       65951.65|     0|\n",
            "|       16|  15643966|  Goforth|        616|  Germany|  Male| 45|     3|143129.41|            2|             1|       64327.26|     0|\n",
            "|       17|  15737452|    Romeo|        653|  Germany|  Male| 58|     1|132602.88|            1|             0|        5097.67|     1|\n",
            "|       18|  15788218|Henderson|        549|    Spain|Female| 24|     9|      0.0|            2|             1|       14406.41|     0|\n",
            "|       19|  15661507|  Muldrow|        587|    Spain|  Male| 45|     6|      0.0|            1|             0|      158684.81|     0|\n",
            "|       20|  15568982|      Hao|        726|   France|Female| 24|     6|      0.0|            2|             1|       54724.03|     0|\n",
            "+---------+----------+---------+-----------+---------+------+---+------+---------+-------------+--------------+---------------+------+\n",
            "only showing top 20 rows\n",
            "\n"
          ]
        }
      ]
    },
    {
      "cell_type": "markdown",
      "source": [
        "# List of members active and eligible for credit card"
      ],
      "metadata": {
        "id": "8utIrIxAhY6w"
      }
    },
    {
      "cell_type": "code",
      "source": [
        "activeandeligible = df.filter((df[\"CreditScore\"]>700).isNotNull() & (df[\"IsActiveMember\"] == 1).isNotNull()).count()\n",
        "print(activeandeligible)\n"
      ],
      "metadata": {
        "colab": {
          "base_uri": "https://localhost:8080/"
        },
        "id": "nKc32B72fzF5",
        "outputId": "40e9cd01-6bb0-4022-c6ff-df3979119f5b"
      },
      "execution_count": 15,
      "outputs": [
        {
          "output_type": "stream",
          "name": "stdout",
          "text": [
            "10000\n"
          ]
        }
      ]
    },
    {
      "cell_type": "markdown",
      "source": [
        "# Loan DataSet"
      ],
      "metadata": {
        "id": "B2mkGOL7pAI5"
      }
    },
    {
      "cell_type": "code",
      "source": [
        "df2 = spark.read.csv(\"/content/loan.csv\",inferSchema = True,header = \"True\")"
      ],
      "metadata": {
        "id": "rC68tJxxgoPV"
      },
      "execution_count": 16,
      "outputs": []
    },
    {
      "cell_type": "code",
      "source": [
        "df2.show()\n",
        "df2.printSchema()"
      ],
      "metadata": {
        "colab": {
          "base_uri": "https://localhost:8080/"
        },
        "id": "fhRPqv0sn5zC",
        "outputId": "78c0756a-2287-4e2c-fe1b-7da08a711bc1"
      },
      "execution_count": 17,
      "outputs": [
        {
          "output_type": "stream",
          "name": "stdout",
          "text": [
            "+-----------+---+------+-------------------+--------------+-----------+------+-----------+-------------+------------------+-----------+-------+------------+----------------+------------------+\n",
            "|Customer_ID|Age|Gender|         Occupation|Marital Status|Family Size|Income|Expenditure|Use Frequency|     Loan Category|Loan Amount|Overdue| Debt Record| Returned Cheque| Dishonour of Bill|\n",
            "+-----------+---+------+-------------------+--------------+-----------+------+-----------+-------------+------------------+-----------+-------+------------+----------------+------------------+\n",
            "|    IB14001| 30|  MALE|       BANK MANAGER|        SINGLE|          4| 50000|      22199|            6|           HOUSING| 10,00,000 |      5|      42,898|               6|                 9|\n",
            "|    IB14008| 44|  MALE|          PROFESSOR|       MARRIED|          6| 51000|      19999|            4|          SHOPPING|     50,000|      3|      33,999|               1|                 5|\n",
            "|    IB14012| 30|FEMALE|            DENTIST|        SINGLE|          3| 58450|      27675|            5|        TRAVELLING|     75,000|      6|      20,876|               3|                 1|\n",
            "|    IB14018| 29|  MALE|            TEACHER|       MARRIED|          5| 45767|      12787|            3|         GOLD LOAN|  6,00,000 |      7|      11,000|               0|                 4|\n",
            "|    IB14022| 34|  MALE|             POLICE|        SINGLE|          4| 43521|      11999|            3|        AUTOMOBILE|  2,00,000 |      2|      43,898|               1|                 2|\n",
            "|    IB14024| 55|FEMALE|              NURSE|       MARRIED|          6| 34999|      19888|            4|        AUTOMOBILE|     47,787|      1|      50,000|               0|                 3|\n",
            "|    IB14025| 39|FEMALE|            TEACHER|       MARRIED|          6| 46619|      18675|            4|           HOUSING| 12,09,867 |      8|      29,999|               6|                 8|\n",
            "|    IB14027| 51|  MALE|     SYSTEM MANAGER|       MARRIED|          3| 49999|      19111|            5|       RESTAURANTS|     60,676|      8|      13,000|               2|                 5|\n",
            "|    IB14029| 24|FEMALE|            TEACHER|        SINGLE|          3| 45008|      17454|            4|        AUTOMOBILE|  3,99,435 |      9|      51,987|               4|                 7|\n",
            "|    IB14031| 37|FEMALE|  SOFTWARE ENGINEER|       MARRIED|          5| 55999|      23999|            5|        AUTOMOBILE|     60,999|      2|           0|               5|                 3|\n",
            "|    IB14032| 24|  MALE|       DATA ANALYST|        SINGLE|          4| 60111|      28999|            6|        AUTOMOBILE|     35,232|      5|      33,333|               1|                 2|\n",
            "|    IB14034| 32|  MALE|   PRODUCT ENGINEER|       MARRIED|          6|  null|      29000|            7|COMPUTER SOFTWARES|     80,660|      6|       4,500|               5|                 4|\n",
            "|    IB14037| 54|FEMALE|            TEACHER|       MARRIED|          5| 48099|      19999|            4|       RESTAURANTS|     30,999|      1|      12,000|               7|                 5|\n",
            "|    IB14039| 45|  MALE|    ACCOUNT MANAGER|       MARRIED|          7| 45777|      18452|            4|         GOLD LOAN|  9,87,611 |      7|      39,999|               8|                 1|\n",
            "|    IB14041| 59|FEMALE|ASSISTANT PROFESSOR|       MARRIED|          4| 50999|      22999|            5|  EDUCATIONAL LOAN|  5,99,934 |      3|       9,000|               9|                 9|\n",
            "|    IB14042| 25|FEMALE|             DOCTOR|        SINGLE|          4| 60111|      27111|            5|        TRAVELLING| 12,90,929 |      4|      18,000|               1|                 0|\n",
            "|    IB14045| 31|  MALE|       STORE KEEPER|        SINGLE|          5| 40999|      11999|            3|       BOOK STORES|  1,67,654 |      1|       4,500|               0|                 1|\n",
            "|    IB14049| 49|  MALE|       BANK MANAGER|       MARRIED|          4| 45999|      14500|            4|        TRAVELLING|     79,999|      4|       6,700|               7|                 3|\n",
            "|    IB14050| 56|  MALE|     CIVIL ENGINEER|       MARRIED|          4|  null|      13999|            3|           HOUSING| 10,65,577 |      6|      19,999|               4|                 2|\n",
            "|    IB14054| 58|FEMALE|             DOCTOR|       MARRIED|          5| 60000|      25000|            5|           HOUSING|  9,00,000 |      5|      21,000|               9|                 0|\n",
            "+-----------+---+------+-------------------+--------------+-----------+------+-----------+-------------+------------------+-----------+-------+------------+----------------+------------------+\n",
            "only showing top 20 rows\n",
            "\n",
            "root\n",
            " |-- Customer_ID: string (nullable = true)\n",
            " |-- Age: integer (nullable = true)\n",
            " |-- Gender: string (nullable = true)\n",
            " |-- Occupation: string (nullable = true)\n",
            " |-- Marital Status: string (nullable = true)\n",
            " |-- Family Size: integer (nullable = true)\n",
            " |-- Income: integer (nullable = true)\n",
            " |-- Expenditure: integer (nullable = true)\n",
            " |-- Use Frequency: integer (nullable = true)\n",
            " |-- Loan Category: string (nullable = true)\n",
            " |-- Loan Amount: string (nullable = true)\n",
            " |-- Overdue: integer (nullable = true)\n",
            " |--  Debt Record: string (nullable = true)\n",
            " |--  Returned Cheque: integer (nullable = true)\n",
            " |--  Dishonour of Bill: integer (nullable = true)\n",
            "\n"
          ]
        }
      ]
    },
    {
      "cell_type": "markdown",
      "source": [
        "# Number of loans in each category"
      ],
      "metadata": {
        "id": "2AdCeLTOoKpQ"
      }
    },
    {
      "cell_type": "code",
      "source": [
        "numberofloan = df2.groupBy(\"Loan Category\").count().show()"
      ],
      "metadata": {
        "colab": {
          "base_uri": "https://localhost:8080/"
        },
        "id": "aKAzgvT9oBpb",
        "outputId": "529fcd41-cef2-4cb6-e95a-d3a779857555"
      },
      "execution_count": 18,
      "outputs": [
        {
          "output_type": "stream",
          "name": "stdout",
          "text": [
            "+------------------+-----+\n",
            "|     Loan Category|count|\n",
            "+------------------+-----+\n",
            "|           HOUSING|   67|\n",
            "|        TRAVELLING|   53|\n",
            "|       BOOK STORES|    7|\n",
            "|       AGRICULTURE|   12|\n",
            "|         GOLD LOAN|   77|\n",
            "|  EDUCATIONAL LOAN|   20|\n",
            "|        AUTOMOBILE|   60|\n",
            "|          BUSINESS|   24|\n",
            "|COMPUTER SOFTWARES|   35|\n",
            "|           DINNING|   14|\n",
            "|          SHOPPING|   35|\n",
            "|       RESTAURANTS|   41|\n",
            "|       ELECTRONICS|   14|\n",
            "|          BUILDING|    7|\n",
            "|        RESTAURANT|   20|\n",
            "|   HOME APPLIANCES|   14|\n",
            "+------------------+-----+\n",
            "\n"
          ]
        }
      ]
    },
    {
      "cell_type": "markdown",
      "source": [
        "# Number of people who have taken more than 1 lack loan"
      ],
      "metadata": {
        "id": "x7zKky1zox2B"
      }
    },
    {
      "cell_type": "code",
      "source": [
        "loanmorethanonelakh = df2.filter(df2[\"Loan Amount\"]>\"1,00,000\").count()\n",
        "print(loanmorethanonelakh)"
      ],
      "metadata": {
        "colab": {
          "base_uri": "https://localhost:8080/"
        },
        "id": "FP1w5d6DomH1",
        "outputId": "7357ef17-9fc1-451d-8eb3-6cfb064abb15"
      },
      "execution_count": 19,
      "outputs": [
        {
          "output_type": "stream",
          "name": "stdout",
          "text": [
            "379\n"
          ]
        }
      ]
    },
    {
      "cell_type": "markdown",
      "source": [
        "# Number of people with income greater than 60000 rupees"
      ],
      "metadata": {
        "id": "ACcRoKDK0whc"
      }
    },
    {
      "cell_type": "code",
      "source": [
        "incomemorethansistythousand = df2.filter(df2[\"Income\"]>60000).count() \n",
        "print(incomemorethansistythousand)"
      ],
      "metadata": {
        "colab": {
          "base_uri": "https://localhost:8080/"
        },
        "id": "KQjZlfsIpnu_",
        "outputId": "29a1d09f-5e25-4083-e9f7-78aa15abac17"
      },
      "execution_count": 20,
      "outputs": [
        {
          "output_type": "stream",
          "name": "stdout",
          "text": [
            "198\n"
          ]
        }
      ]
    },
    {
      "cell_type": "markdown",
      "source": [
        "#Number of people with 2 or more returned cheques and income less than 50000\n"
      ],
      "metadata": {
        "id": "tigphIEA1dSq"
      }
    },
    {
      "cell_type": "code",
      "source": [
        "df2.filter((df2[\" Returned Cheque\"]>\"1\") & (df2[\"Income\"]<\"50000\")).count()\n"
      ],
      "metadata": {
        "colab": {
          "base_uri": "https://localhost:8080/"
        },
        "id": "vg5mK4kO1Rna",
        "outputId": "8043e95a-4596-45aa-aa49-c93d2fddb94a"
      },
      "execution_count": 21,
      "outputs": [
        {
          "output_type": "execute_result",
          "data": {
            "text/plain": [
              "137"
            ]
          },
          "metadata": {},
          "execution_count": 21
        }
      ]
    },
    {
      "cell_type": "markdown",
      "source": [
        "#Number of people with 2 or more returned cheques and are single"
      ],
      "metadata": {
        "id": "IlNlx5LRKNq0"
      }
    },
    {
      "cell_type": "code",
      "source": [
        "df2.filter((df2[\" Returned Cheque\"]>\"1\") & (df2[\"Marital Status\"] ==\"SINGLE\")).count()"
      ],
      "metadata": {
        "colab": {
          "base_uri": "https://localhost:8080/"
        },
        "id": "GOGz9su718He",
        "outputId": "36a0137b-8b80-45ff-b772-fd28606a7726"
      },
      "execution_count": 26,
      "outputs": [
        {
          "output_type": "execute_result",
          "data": {
            "text/plain": [
              "111"
            ]
          },
          "metadata": {},
          "execution_count": 26
        }
      ]
    },
    {
      "cell_type": "markdown",
      "source": [
        "# Number of people with expenditure over 50000 a month"
      ],
      "metadata": {
        "id": "1j0N0Fzwjp7o"
      }
    },
    {
      "cell_type": "code",
      "source": [
        "df2.filter(df2[\"Expenditure\"] > \"50000\").count()"
      ],
      "metadata": {
        "colab": {
          "base_uri": "https://localhost:8080/"
        },
        "id": "3agttKlJK4WM",
        "outputId": "0643991b-7ca6-41cc-9893-4ee2175d6c3b"
      },
      "execution_count": 28,
      "outputs": [
        {
          "output_type": "execute_result",
          "data": {
            "text/plain": [
              "6"
            ]
          },
          "metadata": {},
          "execution_count": 28
        }
      ]
    },
    {
      "cell_type": "markdown",
      "source": [
        "# Txn DataSet"
      ],
      "metadata": {
        "id": "OTeFYBmqk5y2"
      }
    },
    {
      "cell_type": "code",
      "source": [
        "df3 =spark.read.csv(\"/content/txn.csv\",inferSchema = True , header = True)"
      ],
      "metadata": {
        "id": "iNzOgQkgj6-M"
      },
      "execution_count": 29,
      "outputs": []
    },
    {
      "cell_type": "code",
      "source": [
        "df3.show()\n",
        "df3.printSchema()"
      ],
      "metadata": {
        "colab": {
          "base_uri": "https://localhost:8080/"
        },
        "id": "vdyJpy9vlIV6",
        "outputId": "11859712-4183-4e1a-a0b4-93330378ec71"
      },
      "execution_count": 33,
      "outputs": [
        {
          "output_type": "stream",
          "name": "stdout",
          "text": [
            "+-------------+--------------------+----------+----------------+-------------+-----------+\n",
            "|   Account No| TRANSACTION DETAILS|VALUE DATE| WITHDRAWAL AMT | DEPOSIT AMT |BALANCE AMT|\n",
            "+-------------+--------------------+----------+----------------+-------------+-----------+\n",
            "|409000611074'|TRF FROM  Indiafo...| 29-Jun-17|            null|    1000000.0|  1000000.0|\n",
            "|409000611074'|TRF FROM  Indiafo...|  5-Jul-17|            null|    1000000.0|  2000000.0|\n",
            "|409000611074'|FDRL/INTERNAL FUN...| 18-Jul-17|            null|     500000.0|  2500000.0|\n",
            "|409000611074'|TRF FRM  Indiafor...|  1-Aug-17|            null|    3000000.0|  5500000.0|\n",
            "|409000611074'|FDRL/INTERNAL FUN...| 16-Aug-17|            null|     500000.0|  6000000.0|\n",
            "|409000611074'|FDRL/INTERNAL FUN...| 16-Aug-17|            null|     500000.0|  6500000.0|\n",
            "|409000611074'|FDRL/INTERNAL FUN...| 16-Aug-17|            null|     500000.0|  7000000.0|\n",
            "|409000611074'|FDRL/INTERNAL FUN...| 16-Aug-17|            null|     500000.0|  7500000.0|\n",
            "|409000611074'|FDRL/INTERNAL FUN...| 16-Aug-17|            null|     500000.0|  8000000.0|\n",
            "|409000611074'|FDRL/INTERNAL FUN...| 16-Aug-17|            null|     500000.0|  8500000.0|\n",
            "|409000611074'|INDO GIBL Indiafo...| 16-Aug-17|        133900.0|         null|  8366100.0|\n",
            "|409000611074'|INDO GIBL Indiafo...| 16-Aug-17|         18000.0|         null|  8348100.0|\n",
            "|409000611074'|INDO GIBL Indiafo...| 16-Aug-17|          5000.0|         null|  8343100.0|\n",
            "|409000611074'|INDO GIBL Indiafo...| 16-Aug-17|        195800.0|         null|  8147300.0|\n",
            "|409000611074'|INDO GIBL Indiafo...| 16-Aug-17|         81600.0|         null|  8065700.0|\n",
            "|409000611074'|INDO GIBL Indiafo...| 16-Aug-17|         41800.0|         null|  8023900.0|\n",
            "|409000611074'|INDO GIBL Indiafo...| 16-Aug-17|         98500.0|         null|  7925400.0|\n",
            "|409000611074'|INDO GIBL Indiafo...| 16-Aug-17|        143800.0|         null|  7781600.0|\n",
            "|409000611074'|INDO GIBL Indiafo...| 16-Aug-17|        331650.0|         null|  7449950.0|\n",
            "|409000611074'|INDO GIBL Indiafo...| 16-Aug-17|        129000.0|         null|  7320950.0|\n",
            "+-------------+--------------------+----------+----------------+-------------+-----------+\n",
            "only showing top 20 rows\n",
            "\n",
            "root\n",
            " |-- Account No: string (nullable = true)\n",
            " |-- TRANSACTION DETAILS: string (nullable = true)\n",
            " |-- VALUE DATE: string (nullable = true)\n",
            " |--  WITHDRAWAL AMT : double (nullable = true)\n",
            " |--  DEPOSIT AMT : double (nullable = true)\n",
            " |-- BALANCE AMT: double (nullable = true)\n",
            "\n"
          ]
        }
      ]
    },
    {
      "cell_type": "markdown",
      "source": [
        "# COUNT OF TRANSACTION ON EVERY ACCOUNT"
      ],
      "metadata": {
        "id": "MfPodFuUnsHi"
      }
    },
    {
      "cell_type": "code",
      "source": [
        "df3.groupBy(\"Account No\").count().show()"
      ],
      "metadata": {
        "colab": {
          "base_uri": "https://localhost:8080/"
        },
        "id": "zGM6bLFZlSIj",
        "outputId": "f9141f43-d03c-4b2e-8348-b9eaacec1b52"
      },
      "execution_count": 36,
      "outputs": [
        {
          "output_type": "stream",
          "name": "stdout",
          "text": [
            "+-------------+-----+\n",
            "|   Account No|count|\n",
            "+-------------+-----+\n",
            "|409000438611'| 4588|\n",
            "|     1196711'|10536|\n",
            "|     1196428'|48779|\n",
            "|409000493210'| 6014|\n",
            "|409000611074'| 1093|\n",
            "|409000425051'|  802|\n",
            "|409000405747'|   51|\n",
            "|409000362497'|29840|\n",
            "|409000493201'| 1044|\n",
            "|409000438620'|13454|\n",
            "+-------------+-----+\n",
            "\n"
          ]
        }
      ]
    },
    {
      "cell_type": "markdown",
      "source": [
        "# Maximum withdrawal amount"
      ],
      "metadata": {
        "id": "9wmpAvjnoHji"
      }
    },
    {
      "cell_type": "code",
      "source": [
        "df3.groupBy(\"Account No\").agg(max(\" WITHDRAWAL AMT \").alias(\"maxamt\")).orderBy(\"maxamt\", ascending = False).show()"
      ],
      "metadata": {
        "colab": {
          "base_uri": "https://localhost:8080/"
        },
        "id": "3NX73bHyn3ET",
        "outputId": "3d30071f-971e-4a36-f4e5-53e669ac37a2"
      },
      "execution_count": 52,
      "outputs": [
        {
          "output_type": "stream",
          "name": "stdout",
          "text": [
            "+-------------+-------------+\n",
            "|   Account No|       maxamt|\n",
            "+-------------+-------------+\n",
            "|     1196711'|4.594475464E8|\n",
            "|409000438620'|        4.0E8|\n",
            "|409000425051'|       3.54E8|\n",
            "|409000438611'|        2.4E8|\n",
            "|409000405747'|        1.7E8|\n",
            "|     1196428'|        1.5E8|\n",
            "|409000362497'|1.413662392E8|\n",
            "|409000493210'|        1.5E7|\n",
            "|409000493201'|    2500000.0|\n",
            "|409000611074'|     912000.0|\n",
            "+-------------+-------------+\n",
            "\n"
          ]
        }
      ]
    },
    {
      "cell_type": "markdown",
      "source": [
        "#MINIMUM WITHDRAWAL AMOUNT OF AN ACCOUNT\n"
      ],
      "metadata": {
        "id": "QDJJB23csiHL"
      }
    },
    {
      "cell_type": "code",
      "source": [
        "df3.groupBy(\"Account No\").min(\" WITHDRAWAL AMT \").orderBy(\"min( WITHDRAWAL AMT )\").show()\n"
      ],
      "metadata": {
        "colab": {
          "base_uri": "https://localhost:8080/"
        },
        "id": "_impjJ9-oaWD",
        "outputId": "e06d2e8a-7ae9-48ac-94db-55a0c0ec2e53"
      },
      "execution_count": 58,
      "outputs": [
        {
          "output_type": "stream",
          "name": "stdout",
          "text": [
            "+-------------+---------------------+\n",
            "|   Account No|min( WITHDRAWAL AMT )|\n",
            "+-------------+---------------------+\n",
            "|409000493210'|                 0.01|\n",
            "|409000438611'|                  0.2|\n",
            "|     1196711'|                 0.25|\n",
            "|     1196428'|                 0.25|\n",
            "|409000438620'|                 0.34|\n",
            "|409000362497'|                 0.97|\n",
            "|409000425051'|                 1.25|\n",
            "|409000493201'|                  2.1|\n",
            "|409000405747'|                 21.0|\n",
            "|409000611074'|                120.0|\n",
            "+-------------+---------------------+\n",
            "\n"
          ]
        }
      ]
    },
    {
      "cell_type": "markdown",
      "source": [
        "#MAXIMUM DEPOSIT AMOUNT OF AN ACCOUNT\n"
      ],
      "metadata": {
        "id": "QClHmAt3xkfb"
      }
    },
    {
      "cell_type": "code",
      "source": [
        "df3.groupBy(\"Account No\").max(\" DEPOSIT AMT \").orderBy(\"max( DEPOSIT AMT )\",ascending = False).show()\n"
      ],
      "metadata": {
        "colab": {
          "base_uri": "https://localhost:8080/"
        },
        "id": "6TclxdvusvEx",
        "outputId": "ea4c964c-e7f4-4a6b-e288-9470251e8047"
      },
      "execution_count": 60,
      "outputs": [
        {
          "output_type": "stream",
          "name": "stdout",
          "text": [
            "+-------------+------------------+\n",
            "|   Account No|max( DEPOSIT AMT )|\n",
            "+-------------+------------------+\n",
            "|409000438620'|           5.448E8|\n",
            "|     1196711'|             5.0E8|\n",
            "|     1196428'|     2.119594422E8|\n",
            "|409000405747'|           2.021E8|\n",
            "|409000362497'|             2.0E8|\n",
            "|409000438611'|          1.7025E8|\n",
            "|409000425051'|             1.5E7|\n",
            "|409000493210'|             1.5E7|\n",
            "|409000611074'|         3000000.0|\n",
            "|409000493201'|         1000000.0|\n",
            "+-------------+------------------+\n",
            "\n"
          ]
        }
      ]
    },
    {
      "cell_type": "markdown",
      "source": [
        "#MINIMUM DEPOSIT AMOUNT OF AN ACCOUNT"
      ],
      "metadata": {
        "id": "PUKAbXUWyDJG"
      }
    },
    {
      "cell_type": "code",
      "source": [
        "df3.groupBy(\"Account No\").min(\" DEPOSIT AMT \").orderBy(\"min( DEPOSIT AMT )\").show()\n"
      ],
      "metadata": {
        "colab": {
          "base_uri": "https://localhost:8080/"
        },
        "id": "ZXtPDsqKx05q",
        "outputId": "e7225568-db4e-437e-af1d-c70c97d4c5ad"
      },
      "execution_count": 61,
      "outputs": [
        {
          "output_type": "stream",
          "name": "stdout",
          "text": [
            "+-------------+------------------+\n",
            "|   Account No|min( DEPOSIT AMT )|\n",
            "+-------------+------------------+\n",
            "|409000493210'|              0.01|\n",
            "|409000362497'|              0.03|\n",
            "|409000438611'|              0.03|\n",
            "|409000438620'|              0.07|\n",
            "|409000493201'|               0.9|\n",
            "|409000425051'|               1.0|\n",
            "|     1196428'|               1.0|\n",
            "|     1196711'|              1.01|\n",
            "|409000405747'|             500.0|\n",
            "|409000611074'|            1320.0|\n",
            "+-------------+------------------+\n",
            "\n"
          ]
        }
      ]
    },
    {
      "cell_type": "markdown",
      "source": [
        "#sum of balance in every bank account\n"
      ],
      "metadata": {
        "id": "fliXGuMByNs5"
      }
    },
    {
      "cell_type": "code",
      "source": [
        "df3.groupBy(\"Account No\").sum(\"BALANCE AMT\").show()\n"
      ],
      "metadata": {
        "colab": {
          "base_uri": "https://localhost:8080/"
        },
        "id": "t0Dn333qyL5C",
        "outputId": "09bc029e-f3b0-45d9-9c4c-3015dee39e13"
      },
      "execution_count": 63,
      "outputs": [
        {
          "output_type": "stream",
          "name": "stdout",
          "text": [
            "+-------------+--------------------+\n",
            "|   Account No|    sum(BALANCE AMT)|\n",
            "+-------------+--------------------+\n",
            "|409000438611'|-2.49486577068339...|\n",
            "|     1196711'|-1.60476498101275E13|\n",
            "|     1196428'| -8.1418498130721E13|\n",
            "|409000493210'|-3.27584952132095...|\n",
            "|409000611074'|       1.615533622E9|\n",
            "|409000425051'|-3.77211841164998...|\n",
            "|409000405747'|-2.43108047067000...|\n",
            "|409000362497'| -5.2860004792808E13|\n",
            "|409000493201'|1.0420831829499985E9|\n",
            "|409000438620'|-7.12291867951358...|\n",
            "+-------------+--------------------+\n",
            "\n"
          ]
        }
      ]
    },
    {
      "cell_type": "markdown",
      "source": [
        "#Number of transaction on each date\n"
      ],
      "metadata": {
        "id": "H3lTpQg1yneq"
      }
    },
    {
      "cell_type": "code",
      "source": [
        "df3.groupBy(\"VALUE DATE\").count().orderBy(col(\"count\").desc()).show()"
      ],
      "metadata": {
        "colab": {
          "base_uri": "https://localhost:8080/"
        },
        "id": "6VA9MbESyclr",
        "outputId": "645fd397-b77b-4c35-8929-d03e07c7d90d"
      },
      "execution_count": 67,
      "outputs": [
        {
          "output_type": "stream",
          "name": "stdout",
          "text": [
            "+----------+-----+\n",
            "|VALUE DATE|count|\n",
            "+----------+-----+\n",
            "| 27-Jul-17|  567|\n",
            "| 13-Aug-18|  463|\n",
            "|  8-Nov-17|  402|\n",
            "|  7-Oct-17|  382|\n",
            "| 10-Jul-18|  374|\n",
            "| 12-Dec-17|  367|\n",
            "| 12-Sep-18|  365|\n",
            "|  9-Aug-18|  360|\n",
            "| 19-Sep-17|  358|\n",
            "| 16-Mar-17|  353|\n",
            "| 10-Sep-18|  344|\n",
            "| 14-Jul-17|  333|\n",
            "|  7-Mar-18|  319|\n",
            "| 11-Oct-18|  303|\n",
            "| 22-Aug-17|  301|\n",
            "|  9-Jan-18|  299|\n",
            "|  9-Oct-18|  297|\n",
            "| 20-Apr-18|  296|\n",
            "|  9-Jul-18|  292|\n",
            "|  7-Apr-18|  291|\n",
            "+----------+-----+\n",
            "only showing top 20 rows\n",
            "\n"
          ]
        }
      ]
    },
    {
      "cell_type": "markdown",
      "source": [
        "#List of customers with withdrawal amount more than 1 lakh\n"
      ],
      "metadata": {
        "id": "1w4hyWblz0Ln"
      }
    },
    {
      "cell_type": "code",
      "source": [
        "df3.filter((df3[\" WITHDRAWAL AMT \"]>\"100000.0\").isNotNull()).show()"
      ],
      "metadata": {
        "colab": {
          "base_uri": "https://localhost:8080/"
        },
        "id": "A8oPrR7uzHyC",
        "outputId": "4ef5cda6-6afc-4646-a80e-cd500c5b19e9"
      },
      "execution_count": 71,
      "outputs": [
        {
          "output_type": "stream",
          "name": "stdout",
          "text": [
            "+-------------+--------------------+----------+----------------+-------------+-----------+\n",
            "|   Account No| TRANSACTION DETAILS|VALUE DATE| WITHDRAWAL AMT | DEPOSIT AMT |BALANCE AMT|\n",
            "+-------------+--------------------+----------+----------------+-------------+-----------+\n",
            "|409000611074'|INDO GIBL Indiafo...| 16-Aug-17|        133900.0|         null|  8366100.0|\n",
            "|409000611074'|INDO GIBL Indiafo...| 16-Aug-17|         18000.0|         null|  8348100.0|\n",
            "|409000611074'|INDO GIBL Indiafo...| 16-Aug-17|          5000.0|         null|  8343100.0|\n",
            "|409000611074'|INDO GIBL Indiafo...| 16-Aug-17|        195800.0|         null|  8147300.0|\n",
            "|409000611074'|INDO GIBL Indiafo...| 16-Aug-17|         81600.0|         null|  8065700.0|\n",
            "|409000611074'|INDO GIBL Indiafo...| 16-Aug-17|         41800.0|         null|  8023900.0|\n",
            "|409000611074'|INDO GIBL Indiafo...| 16-Aug-17|         98500.0|         null|  7925400.0|\n",
            "|409000611074'|INDO GIBL Indiafo...| 16-Aug-17|        143800.0|         null|  7781600.0|\n",
            "|409000611074'|INDO GIBL Indiafo...| 16-Aug-17|        331650.0|         null|  7449950.0|\n",
            "|409000611074'|INDO GIBL Indiafo...| 16-Aug-17|        129000.0|         null|  7320950.0|\n",
            "|409000611074'|INDO GIBL Indiafo...| 16-Aug-17|        230013.0|         null|  7090937.0|\n",
            "|409000611074'|INDO GIBL Indiafo...| 16-Aug-17|        367900.0|         null|  6723037.0|\n",
            "|409000611074'|INDO GIBL Indiafo...| 16-Aug-17|        108000.0|         null|  6615037.0|\n",
            "|409000611074'|INDO GIBL Indiafo...| 16-Aug-17|         64800.0|         null|  6550237.0|\n",
            "|409000611074'|INDO GIBL Indiafo...| 16-Aug-17|        141000.0|         null|  6409237.0|\n",
            "|409000611074'|INDO GIBL Indiafo...| 16-Aug-17|         61750.0|         null|  6347487.0|\n",
            "|409000611074'|INDO GIBL Indiafo...| 16-Aug-17|         67920.0|         null|  6279567.0|\n",
            "|409000611074'|INDO GIBL Indiafo...| 16-Aug-17|         78100.0|         null|  6201467.0|\n",
            "|409000611074'|INDO GIBL Indiafo...| 16-Aug-17|         35650.0|         null|  6165817.0|\n",
            "|409000611074'|INDO GIBL Indiafo...| 16-Aug-17|        206000.0|         null|  5959817.0|\n",
            "+-------------+--------------------+----------+----------------+-------------+-----------+\n",
            "only showing top 20 rows\n",
            "\n"
          ]
        }
      ]
    },
    {
      "cell_type": "code",
      "source": [],
      "metadata": {
        "id": "dwJ8Vz3p0GPy"
      },
      "execution_count": null,
      "outputs": []
    }
  ]
}